{
 "cells": [
  {
   "cell_type": "code",
   "execution_count": 60,
   "id": "a05dd765",
   "metadata": {},
   "outputs": [],
   "source": [
    "import pandas as pd\n",
    "import os"
   ]
  },
  {
   "cell_type": "code",
   "execution_count": 61,
   "id": "f7f0d723",
   "metadata": {},
   "outputs": [],
   "source": [
    "df_bz = pd.read_excel(\"标准映射编码表.xlsx\")\n",
    "df_nz = pd.read_excel(\"文件名称映射表.xlsx\")\n",
    "name_mapping = df_bz.set_index('字段代码')['字段名称'].to_dict()\n",
    "nz_mapping = df_nz.set_index('属性表名')['层名称'].to_dict()"
   ]
  },
  {
   "cell_type": "code",
   "execution_count": 62,
   "id": "242c823f",
   "metadata": {},
   "outputs": [
    {
     "data": {
      "text/plain": [
       "array(['Int', 'Char', 'Double', 'Float', 'Doubl e'], dtype=object)"
      ]
     },
     "execution_count": 62,
     "metadata": {},
     "output_type": "execute_result"
    }
   ],
   "source": [
    "df_bz['字段类型'].unique()"
   ]
  },
  {
   "cell_type": "code",
   "execution_count": 63,
   "id": "82704d06",
   "metadata": {},
   "outputs": [],
   "source": [
    "type_mapping = {\n",
    "    'Integer': 'Int',\n",
    "    'SmallInteger': 'Short',\n",
    "    'String': 'Char',\n",
    "    'Double': 'Double',\n",
    "    'Single': 'Float'\n",
    "}"
   ]
  },
  {
   "cell_type": "code",
   "execution_count": 66,
   "id": "88fdde45",
   "metadata": {},
   "outputs": [],
   "source": [
    "# 设置包含多个 CSV 的文件夹路径\n",
    "csv_folder = r\"shap统计\"  # 替换为你的目录路径\n",
    "output_folder = r\"标准映射后\"  # 输出 Word 文件目录\n",
    "\n",
    "if not os.path.exists(output_folder):\n",
    "    os.makedirs(output_folder)\n",
    "\n",
    "# 遍历文件夹中的所有 CSV 文件\n",
    "for file in os.listdir(csv_folder):\n",
    "    if file.lower().endswith(\".csv\"):\n",
    "        csv_path = os.path.join(csv_folder, file)\n",
    "        df = pd.read_csv(csv_path, encoding=\"gbk\")\n",
    "        # 3. 替换FieldName列\n",
    "        df = df[~df['Type'].isin(['OID', 'Geometry'])]\n",
    "        df['Filename'] = df['Filename'].apply(lambda x: x[:-4] if x.endswith('.shp') else x)\n",
    "        df['Filename'] = df['Filename'].replace(nz_mapping)\n",
    "        df['FieldName'] = df['FieldName'].map(name_mapping)\n",
    "        df['Type'] = df['Type'].map(type_mapping)\n",
    "        # 4. 处理未映射的字段（保持原值或设为空）\n",
    "        df['FieldName'] = df['FieldName'].fillna(df['FieldAlias'])\n",
    "        # 保存 Word 文档\n",
    "        output_file = os.path.join(output_folder, os.path.splitext(file)[0] + \".csv\")\n",
    "        df.to_csv(output_file,index=False,encoding=\"gbk\")"
   ]
  }
 ],
 "metadata": {
  "kernelspec": {
   "display_name": "gis",
   "language": "python",
   "name": "python3"
  },
  "language_info": {
   "codemirror_mode": {
    "name": "ipython",
    "version": 3
   },
   "file_extension": ".py",
   "mimetype": "text/x-python",
   "name": "python",
   "nbconvert_exporter": "python",
   "pygments_lexer": "ipython3",
   "version": "3.10.13"
  }
 },
 "nbformat": 4,
 "nbformat_minor": 5
}
