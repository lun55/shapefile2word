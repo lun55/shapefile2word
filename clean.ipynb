{
 "cells": [
  {
   "cell_type": "code",
   "execution_count": 10,
   "id": "0ada3755",
   "metadata": {},
   "outputs": [],
   "source": [
    "import pandas as pd"
   ]
  },
  {
   "cell_type": "code",
   "execution_count": 11,
   "id": "e189f3ec",
   "metadata": {},
   "outputs": [],
   "source": [
    "df = pd.read_csv(r\"C:\\Users\\LMQ\\Desktop\\【整体评价】天津市2016年度区域更新评价_空间数据.csv\")"
   ]
  },
  {
   "cell_type": "code",
   "execution_count": 13,
   "id": "025f4185",
   "metadata": {},
   "outputs": [
    {
     "data": {
      "text/plain": [
       "array(['OID', 'Geometry', 'Integer', 'String', 'SmallInteger', 'Double',\n",
       "       'Single'], dtype=object)"
      ]
     },
     "execution_count": 13,
     "metadata": {},
     "output_type": "execute_result"
    }
   ],
   "source": [
    "df.Type.unique()"
   ]
  },
  {
   "cell_type": "code",
   "execution_count": 18,
   "id": "0ff72c52",
   "metadata": {},
   "outputs": [],
   "source": [
    "df.loc[df['Type'] == 'SmallInteger', 'Length'] -= 1\n",
    "df.loc[df['Type'] == 'Single', 'Length'] -= 1\n",
    "df.loc[df['Type'] == 'Integer', 'Length'] -= 1"
   ]
  }
 ],
 "metadata": {
  "kernelspec": {
   "display_name": "gis",
   "language": "python",
   "name": "python3"
  },
  "language_info": {
   "codemirror_mode": {
    "name": "ipython",
    "version": 3
   },
   "file_extension": ".py",
   "mimetype": "text/x-python",
   "name": "python",
   "nbconvert_exporter": "python",
   "pygments_lexer": "ipython3",
   "version": "3.10.13"
  }
 },
 "nbformat": 4,
 "nbformat_minor": 5
}
